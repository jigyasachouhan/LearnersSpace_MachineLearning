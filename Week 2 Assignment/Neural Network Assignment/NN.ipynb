{
 "cells": [
  {
   "cell_type": "code",
   "execution_count": 101,
   "metadata": {},
   "outputs": [],
   "source": [
    "import torch\n",
    "import torch.nn as nn\n",
    "import torch.optim as optim\n",
    "from torchvision import datasets, transforms\n",
    "from torch.utils.data import DataLoader\n",
    "import matplotlib.pyplot as plt\n",
    "\n",
    "# Parameters\n",
    "img_height, img_width = 64, 64\n",
    "batch_size = 32\n",
    "\n",
    "# Data transformation and loading\n",
    "transform = transforms.Compose([\n",
    "    transforms.Resize((img_height, img_width)),\n",
    "    transforms.ToTensor(),\n",
    "    transforms.Normalize((0.5,), (0.5,))\n",
    "])\n",
    "\n",
    "train_dataset = datasets.ImageFolder(root='homer_bart', transform=transform)\n",
    "train_size = int(0.9 * len(train_dataset))\n",
    "validation_size = len(train_dataset) - train_size\n",
    "train_dataset, validation_dataset = torch.utils.data.random_split(train_dataset, [train_size, validation_size])\n",
    "\n",
    "train_loader = DataLoader(train_dataset, batch_size=batch_size, shuffle=True)\n",
    "validation_loader = DataLoader(validation_dataset, batch_size=batch_size, shuffle=False)\n",
    "\n",
    "\n"
   ]
  },
  {
   "cell_type": "code",
   "execution_count": 102,
   "metadata": {},
   "outputs": [],
   "source": [
    "class SimpleNN(nn.Module):\n",
    "    def __init__(self):\n",
    "        super(SimpleNN, self).__init__()\n",
    "        self.fc1 = nn.Linear(64 * 64 * 3, 512)\n",
    "        self.fc2 = nn.Linear(512, 256)\n",
    "        self.fc3 = nn.Linear(256, 2)\n",
    "    \n",
    "    def forward(self, x):\n",
    "        x = x.view(x.size(0), -1)  # Flatten the input\n",
    "        x = F.relu(self.fc1(x))\n",
    "        x = F.relu(self.fc2(x))\n",
    "        x = F.softmax(self.fc3(x), dim=1)\n",
    "        return x\n",
    "\n",
    "model = SimpleNN()"
   ]
  },
  {
   "cell_type": "code",
   "execution_count": 103,
   "metadata": {},
   "outputs": [],
   "source": [
    "criterion = nn.CrossEntropyLoss()\n",
    "optimizer = optim.Adam(model.parameters(), lr=0.0001)"
   ]
  },
  {
   "cell_type": "code",
   "execution_count": 104,
   "metadata": {},
   "outputs": [
    {
     "name": "stdout",
     "output_type": "stream",
     "text": [
      "Epoch 1, Loss: 0.6549168452620506\n",
      "Epoch 11, Loss: 0.37563397362828255\n",
      "Epoch 21, Loss: 0.3309764862060547\n",
      "Epoch 31, Loss: 0.3256305530667305\n",
      "Epoch 41, Loss: 0.32149936631321907\n",
      "Epoch 51, Loss: 0.3212883360683918\n",
      "Epoch 61, Loss: 0.32121486589312553\n",
      "Epoch 71, Loss: 0.32116926461458206\n",
      "Epoch 81, Loss: 0.32114364579319954\n",
      "Epoch 91, Loss: 0.3211246244609356\n",
      "Epoch 101, Loss: 0.32111189141869545\n",
      "Epoch 111, Loss: 0.32410162314772606\n",
      "Epoch 121, Loss: 0.3172062039375305\n",
      "Epoch 131, Loss: 0.31719285249710083\n",
      "Epoch 141, Loss: 0.3171866051852703\n",
      "Epoch 151, Loss: 0.32022128626704216\n",
      "Epoch 161, Loss: 0.3171800225973129\n",
      "Epoch 171, Loss: 0.31717803701758385\n",
      "Epoch 181, Loss: 0.3171762600541115\n",
      "Epoch 191, Loss: 0.3171750456094742\n",
      "Epoch 201, Loss: 0.31717410311102867\n",
      "Epoch 211, Loss: 0.317173108458519\n",
      "Epoch 221, Loss: 0.3171723000705242\n",
      "Epoch 231, Loss: 0.317171897739172\n",
      "Epoch 241, Loss: 0.3171713389456272\n",
      "Epoch 251, Loss: 0.3171708732843399\n",
      "Epoch 261, Loss: 0.3171706646680832\n",
      "Epoch 271, Loss: 0.3171703368425369\n",
      "Epoch 281, Loss: 0.31717000529170036\n",
      "Epoch 291, Loss: 0.31716984510421753\n",
      "Epoch 301, Loss: 0.3171696625649929\n",
      "Epoch 311, Loss: 0.3202076554298401\n",
      "Epoch 321, Loss: 0.31716936081647873\n",
      "Epoch 331, Loss: 0.3171692043542862\n",
      "Epoch 341, Loss: 0.31716909632086754\n",
      "Epoch 351, Loss: 0.3171689808368683\n",
      "Epoch 361, Loss: 0.3171689733862877\n",
      "Epoch 371, Loss: 0.31716879829764366\n",
      "Epoch 381, Loss: 0.3202069476246834\n",
      "Epoch 391, Loss: 0.3171686604619026\n",
      "Epoch 401, Loss: 0.3202068544924259\n",
      "Epoch 411, Loss: 0.31716857478022575\n",
      "Epoch 421, Loss: 0.31716853752732277\n",
      "Epoch 431, Loss: 0.3171684928238392\n",
      "Epoch 441, Loss: 0.3171684369444847\n",
      "Epoch 451, Loss: 0.3171684145927429\n",
      "Epoch 461, Loss: 0.31716838851571083\n",
      "Epoch 471, Loss: 0.31716834008693695\n",
      "Epoch 481, Loss: 0.31716831400990486\n",
      "Epoch 491, Loss: 0.31716829165816307\n"
     ]
    }
   ],
   "source": [
    "epochs = 500\n",
    "for epoch in range(epochs):\n",
    "    model.train()\n",
    "    running_loss = 0.0\n",
    "    for images, labels in train_loader:\n",
    "        optimizer.zero_grad()\n",
    "        outputs = model(images)\n",
    "        loss = criterion(outputs, labels)\n",
    "        loss.backward()\n",
    "        optimizer.step()\n",
    "        running_loss += loss.item()\n",
    "    \n",
    "    if(epoch % 10 == 0):\n",
    "        print(f'Epoch {epoch+1}, Loss: {running_loss/len(train_loader)}')"
   ]
  },
  {
   "cell_type": "code",
   "execution_count": 105,
   "metadata": {},
   "outputs": [
    {
     "name": "stdout",
     "output_type": "stream",
     "text": [
      "Test Accuracy: 88.88888888888889%\n"
     ]
    }
   ],
   "source": [
    "model.eval()\n",
    "correct = 0\n",
    "total = 0\n",
    "with torch.no_grad():\n",
    "    for images, labels in validation_loader:\n",
    "        outputs = model(images)\n",
    "        _, predicted = torch.max(outputs, 1)\n",
    "        total += labels.size(0)\n",
    "        correct += (predicted == labels).sum().item()\n",
    "\n",
    "print(f'Test Accuracy: {100 * correct / total}%')"
   ]
  }
 ],
 "metadata": {
  "language_info": {
   "name": "python"
  },
  "orig_nbformat": 4
 },
 "nbformat": 4,
 "nbformat_minor": 2
}
