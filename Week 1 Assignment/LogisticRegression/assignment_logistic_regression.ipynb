{
  "cells": [
    {
      "cell_type": "markdown",
      "metadata": {
        "id": "wNEUsAHHCGk2"
      },
      "source": [
        "##ASSIGNMENT\n",
        "#Dataset\n",
        "Assume you are a scientist who is trying to make a propellent and is trying many tests to make an efficient propellent .\n",
        "<br>\n",
        "You have performed two tests.\n",
        "<br>\n",
        "From the two tests you would like whether this propellent works efficiently or not.\n",
        "Build your own logistic regression model to decide .\n",
        "<br>\n",
        "Text with \"DO NOT EDIT THIS CODE\" needs to be only run do not edit it\n"
      ]
    },
    {
      "cell_type": "code",
      "execution_count": 30,
      "metadata": {
        "id": "xJm_XXJo4RDg"
      },
      "outputs": [],
      "source": [
        "#import libraries\n",
        "#write your code.\n",
        "import numpy as np \n",
        "import pandas as pd\n",
        "import matplotlib.pyplot as plt\n",
        "import math\n"
      ]
    },
    {
      "cell_type": "code",
      "execution_count": 31,
      "metadata": {
        "id": "YtL0jW6m4e1A"
      },
      "outputs": [],
      "source": [
        "#load data\n",
        "data=np.loadtxt(\"data.txt\", delimiter=',')\n",
        "X=data[:,:2]\n",
        "y=data[:,2]\n",
        "X_train=X\n",
        "y_train=y"
      ]
    },
    {
      "cell_type": "code",
      "execution_count": 32,
      "metadata": {
        "id": "Bk2qYHyk4mNm"
      },
      "outputs": [],
      "source": [
        "#plot data to visualise\n",
        "def plot_data(X,y,positive_label=\"y=1\", negative_label=\"y=0\"):\n",
        "#positive_label and negative_label refers to classes of y as y can be 0 or 1\n",
        "    positive = y == 1\n",
        "    negative = y == 0\n",
        "    plt.plot(X[positive, 0], X[positive, 1], 'k+', label=positive_label)\n",
        "    plt.plot(X[negative, 0], X[negative, 1], 'yo', label=negative_label)\n",
        "#While plotting graph the label parameter will be either positive_label or negative_label so plot both the labels for"
      ]
    },
    {
      "cell_type": "code",
      "execution_count": 33,
      "metadata": {
        "id": "RzsMdrwv58tQ"
      },
      "outputs": [
        {
          "data": {
            "image/png": "[encoded data removed]",
            "text/plain": [
              "<Figure size 640x480 with 1 Axes>"
            ]
          },
          "metadata": {},
          "output_type": "display_data"
        }
      ],
      "source": [
        "#test\n",
        "plot_data(X_train, y_train[:], positive_label=\"Accepted\", negative_label=\"Rejected\")\n",
        "\n",
        "\n",
        "plt.xlabel('Test 2')\n",
        "plt.ylabel('Test 1')\n",
        "plt.legend(loc=\"upper right\")\n",
        "plt.show()"
      ]
    },
    {
      "cell_type": "code",
      "execution_count": 34,
      "metadata": {
        "id": "KhRBdaFi6nKo"
      },
      "outputs": [],
      "source": [
        "#feature mapping\n",
        "def map_feature(X1,X2):\n",
        "  X1=np.atleast_1d(X1)\n",
        "  X2=np.atleast_1d(X2)\n",
        "  degree=6\n",
        "  out=[]\n",
        "  for i in range(1,degree+1):\n",
        "    for j in range(i+1):\n",
        "      out.append((X1**(i-j) * (X2**j)))\n",
        "  return np.stack(out, axis=1)"
      ]
    },
    {
      "cell_type": "code",
      "execution_count": 35,
      "metadata": {
        "id": "PNS4kJfq6_m8"
      },
      "outputs": [
        {
          "name": "stdout",
          "output_type": "stream",
          "text": [
            "Original shape of data: (118, 2)\n",
            "Shape after feature mapping: (118, 27)\n"
          ]
        }
      ],
      "source": [
        "print(\"Original shape of data:\", X_train.shape)\n",
        "\n",
        "mapped_X =  map_feature(X_train[:, 0], X_train[:, 1])\n",
        "print(\"Shape after feature mapping:\", mapped_X.shape)"
      ]
    },
    {
      "cell_type": "code",
      "execution_count": 36,
      "metadata": {
        "cellView": "form",
        "id": "BqlxZOXoHh4z"
      },
      "outputs": [],
      "source": [
        "# @title DO NOT EDIT THIS CODE\n",
        "def sigmoid_test(target):\n",
        "    assert np.isclose(target(3.0), 0.9525741268224334), \"Failed for scalar input\"\n",
        "    assert np.allclose(target(np.array([2.5, 0])), [0.92414182, 0.5]), \"Failed for 1D array\"\n",
        "    assert np.allclose(target(np.array([[2.5, -2.5], [0, 1]])),\n",
        "                       [[0.92414182, 0.07585818], [0.5, 0.73105858]]), \"Failed for 2D array\"\n",
        "    print('\\033[92mTests passed!')"
      ]
    },
    {
      "cell_type": "code",
      "execution_count": 37,
      "metadata": {
        "id": "wdgE-ay07C0P"
      },
      "outputs": [],
      "source": [
        "#sigmoid function\n",
        "def sigmoid(z):\n",
        "#write your code\n",
        "    return 1.0 / (1 + np.exp(-z))"
      ]
    },
    {
      "cell_type": "code",
      "execution_count": 38,
      "metadata": {
        "id": "9XOlXXyxHnmB"
      },
      "outputs": [
        {
          "name": "stdout",
          "output_type": "stream",
          "text": [
            "\u001b[92mTests passed!\n"
          ]
        }
      ],
      "source": [
        "sigmoid_test(sigmoid)\n"
      ]
    },
    {
      "cell_type": "code",
      "execution_count": 39,
      "metadata": {
        "cellView": "form",
        "id": "QLqfyxPrH-v-"
      },
      "outputs": [],
      "source": [
        "# @title DO NOT EDIT THIS CODE\n",
        "def compute_cost_test(target):\n",
        "    X = np.array([[0, 0, 0, 0]]).T\n",
        "    y = np.array([0, 0, 0, 0])\n",
        "    w = np.array([0])\n",
        "    b = 1\n",
        "    result = target(X, y, w, b)\n",
        "    if math.isinf(result):\n",
        "        raise ValueError(\"Did you get the sigmoid of z_wb?\")\n",
        "\n",
        "    np.random.seed(17)\n",
        "    X = np.random.randn(5, 2)\n",
        "    y = np.array([1, 0, 0, 1, 1])\n",
        "    w = np.random.randn(2)\n",
        "    b = 0\n",
        "    result = target(X, y, w, b)\n",
        "    assert np.isclose(result, 2.15510667), f\"Wrong output. Expected: {2.15510667} got: {result}\"\n",
        "\n",
        "    X = np.random.randn(4, 3)\n",
        "    y = np.array([1, 1, 0, 0])\n",
        "    w = np.random.randn(3)\n",
        "    b = 0\n",
        "\n",
        "    result = target(X, y, w, b)\n",
        "    assert np.isclose(result, 0.80709376), f\"Wrong output. Expected: {0.80709376} got: {result}\"\n",
        "\n",
        "    X = np.random.randn(4, 3)\n",
        "    y = np.array([1, 0,1, 0])\n",
        "    w = np.random.randn(3)\n",
        "    b = 3\n",
        "    result = target(X, y, w, b)\n",
        "    assert np.isclose(result, 0.4529660647), f\"Wrong output. Expected: {0.4529660647} got: {result}. Did you inizialized z_wb = b?\"\n",
        "\n",
        "    print('\\033[92mTests passed!')"
      ]
    },
    {
      "cell_type": "code",
      "execution_count": 40,
      "metadata": {
        "id": "PRIqcpJ17MzH"
      },
      "outputs": [],
      "source": [
        "#computing cost\n",
        "def compute_cost(X,y,w,b):\n",
        "#write your code\n",
        "  n = X.shape[0]\n",
        "  z = np.dot(X, w) + b\n",
        "  predictions = sigmoid(z)\n",
        "\n",
        "  total_cost = (-1 / n) * np.sum(y * np.log(predictions) + (1 - y) * np.log(1 - predictions))\n",
        "\n",
        "  return total_cost"
      ]
    },
    {
      "cell_type": "code",
      "execution_count": 41,
      "metadata": {
        "id": "MPOvLzL5H5-5"
      },
      "outputs": [
        {
          "name": "stdout",
          "output_type": "stream",
          "text": [
            "Cost at test w,b: 11.777\n",
            "\u001b[92mTests passed!\n"
          ]
        }
      ],
      "source": [
        "test_w = np.array([0.2, 0.2])\n",
        "test_b = -24.\n",
        "cost = compute_cost(X_train, y_train, test_w, test_b)\n",
        "\n",
        "print('Cost at test w,b: {:.3f}'.format(cost))\n",
        "\n",
        "\n",
        "# test\n",
        "compute_cost_test(compute_cost)"
      ]
    },
    {
      "cell_type": "code",
      "execution_count": 42,
      "metadata": {
        "id": "ULkWUBkO7ffh"
      },
      "outputs": [],
      "source": [
        "#compute regularised cost\n",
        "def compute_cost_reg(X, y, w, b, lambda_ = 1):\n",
        "#write your code\n",
        "  n = X.shape[0]\n",
        "  z = np.dot(X, w) + b\n",
        "  predictions = sigmoid(z)\n",
        "\n",
        "  total_cost = (-1 / n) * np.sum(y * np.log(predictions) + (1 - y) * np.log(1 - predictions))\n",
        "  total_cost += (lambda_ / (2 * n)) * np.sum(w**2)\n",
        "\n",
        "  return total_cost"
      ]
    },
    {
      "cell_type": "code",
      "execution_count": 43,
      "metadata": {
        "cellView": "form",
        "id": "OhFbPakDGKQj"
      },
      "outputs": [],
      "source": [
        "# @title DO NOT EDIT THIS CODE\n",
        "def compute_cost_reg_test(target):\n",
        "    np.random.seed(1)\n",
        "    w = np.random.randn(3)\n",
        "    b = 0.4\n",
        "    X = np.random.randn(6, 3)\n",
        "    y = np.array([0, 1, 1, 0, 1, 1])\n",
        "    lambda_ = 0.1\n",
        "    expected_output = target(X, y, w, b, lambda_)\n",
        "\n",
        "    assert np.isclose(expected_output, 0.5469746792761936), f\"Wrong output. Expected: {0.5469746792761936} got:{expected_output}\"\n",
        "\n",
        "    w = np.random.randn(5)\n",
        "    b = -0.6\n",
        "    X = np.random.randn(8, 5)\n",
        "    y = np.array([1, 0, 1, 0, 0, 1, 0, 1])\n",
        "    lambda_ = 0.01\n",
        "    output = target(X, y, w, b, lambda_)\n",
        "    assert np.isclose(output, 1.2608591964119995), f\"Wrong output. Expected: {1.2608591964119995} got:{output}\"\n",
        "\n",
        "    w = np.array([2, 2, 2, 2, 2])\n",
        "    b = 0\n",
        "    X = np.zeros((8, 5))\n",
        "    y = np.array([0.5] * 8)\n",
        "    lambda_ = 3\n",
        "    output = target(X, y, w, b, lambda_)\n",
        "    expected = -np.log(0.5) + 3. / (2. * 8.) * 20.\n",
        "    assert np.isclose(output, expected), f\"Wrong output. Expected: {expected} got:{output}\"\n",
        "\n",
        "    print('\\033[92mAll tests passed!')"
      ]
    },
    {
      "cell_type": "code",
      "execution_count": 44,
      "metadata": {
        "id": "jO14e7OD7syR"
      },
      "outputs": [
        {
          "name": "stdout",
          "output_type": "stream",
          "text": [
            "Regularised cost : 0.6618252552483951\n",
            "\u001b[92mAll tests passed!\n"
          ]
        }
      ],
      "source": [
        "X_mapped = map_feature(X_train[:, 0], X_train[:, 1])\n",
        "np.random.seed(1)\n",
        "initial_w = np.random.rand(X_mapped.shape[1]) - 0.5\n",
        "initial_b = 0.5\n",
        "lambda_ = 0.5\n",
        "cost = compute_cost_reg(X_mapped, y_train, initial_w, initial_b, lambda_)\n",
        "\n",
        "print(\"Regularised cost :\", cost)\n",
        "\n",
        "#test\n",
        "compute_cost_reg_test(compute_cost_reg)"
      ]
    },
    {
      "cell_type": "code",
      "execution_count": 45,
      "metadata": {
        "cellView": "form",
        "id": "plQBUPM2IRei"
      },
      "outputs": [],
      "source": [
        "# @title DO NOT EDIT THIS CODE\n",
        "def compute_gradient_test(target):\n",
        "    np.random.seed(1)\n",
        "    X = np.random.randn(7, 3)\n",
        "    y = np.array([1, 0, 1, 0, 1, 1, 0])\n",
        "    test_w = np.array([1, 0.5, -0.35])\n",
        "    test_b = 1.7\n",
        "    dj_db, dj_dw  = target(X, y, test_w, test_b)\n",
        "\n",
        "    assert np.isclose(dj_db, 0.28936094), f\"Wrong value for dj_db. Expected: {0.28936094} got: {dj_db}\"\n",
        "    assert dj_dw.shape == test_w.shape, f\"Wrong shape for dj_dw. Expected: {test_w.shape} got: {dj_dw.shape}\"\n",
        "    assert np.allclose(dj_dw, [-0.11999166, 0.41498775, -0.71968405]), f\"Wrong values for dj_dw. Got: {dj_dw}\"\n",
        "\n",
        "    print('\\033[92mTests passed!')"
      ]
    },
    {
      "cell_type": "code",
      "execution_count": 54,
      "metadata": {
        "id": "v27SzhYX8-ug"
      },
      "outputs": [],
      "source": [
        "#compute gradient\n",
        "def compute_gradient(X, y, w, b, lambda_=None):\n",
        "#write your code\n",
        "  lr = 0.1\n",
        "  y_pred = sigmoid(np.dot(X, w) +b)\n",
        "  dj_dw = -1 * np.dot(X.T, (y - y_pred)) / len(y)\n",
        "  dj_db = -1 * np.sum(y - y_pred) / len(y)\n",
        "\n",
        "  return dj_db,dj_dw"
      ]
    },
    {
      "cell_type": "code",
      "execution_count": 55,
      "metadata": {
        "id": "WLmFL2yuIPUA"
      },
      "outputs": [
        {
          "name": "stdout",
          "output_type": "stream",
          "text": [
            "dj_db at test_w: -0.4915254236924827\n",
            "dj_dw at test_w: [-0.008601361012465378, -0.09147300847306204]\n",
            "\u001b[92mTests passed!\n"
          ]
        }
      ],
      "source": [
        "test_w = np.array([ 0.2, -0.5])\n",
        "test_b = -24\n",
        "dj_db, dj_dw  = compute_gradient(X_train, y_train, test_w, test_b)\n",
        "\n",
        "print('dj_db at test_w:', dj_db)\n",
        "print('dj_dw at test_w:', dj_dw.tolist())\n",
        "\n",
        "# test\n",
        "compute_gradient_test(compute_gradient)"
      ]
    },
    {
      "cell_type": "code",
      "execution_count": 59,
      "metadata": {
        "id": "TGfUArz09TMl"
      },
      "outputs": [],
      "source": [
        "#compute regularised gradient\n",
        "def compute_gradient_reg(X, y, w, b, lambda_=1):\n",
        "#write your code\n",
        "  lr = 0.1\n",
        "  y_pred = sigmoid(np.dot(X, w) +b)\n",
        "  dj_dw = -1 * np.dot(X.T, (y - y_pred)) / len(y)\n",
        "  dj_db = -1 * np.sum(y - y_pred) / len(y)\n",
        "  dj_dw += (lambda_ / len(y)) * w\n",
        "\n",
        "  return dj_db,dj_dw"
      ]
    },
    {
      "cell_type": "code",
      "execution_count": 60,
      "metadata": {
        "cellView": "form",
        "id": "KNRCWIc8G2cp"
      },
      "outputs": [],
      "source": [
        "# @title DO NOT EDIT THIS CODE\n",
        "def compute_gradient_reg_test(target):\n",
        "    np.random.seed(1)\n",
        "    w = np.random.randn(5)\n",
        "    b = 0.2\n",
        "    X = np.random.randn(7, 5)\n",
        "    y = np.array([0, 1, 1, 0, 1, 1, 0])\n",
        "    lambda_ = 0.1\n",
        "    expected1 = (-0.1506447567869257, np.array([ 0.19530838, -0.00632206,  0.19687367,  0.15741161,  0.02791437]))\n",
        "    dj_db, dj_dw = target(X, y, w, b, lambda_)\n",
        "\n",
        "    assert np.isclose(dj_db, expected1[0]), f\"Wrong dj_db. Expected: {expected1[0]} got: {dj_db}\"\n",
        "    assert np.allclose(dj_dw, expected1[1]), f\"Wrong dj_dw. Expected: {expected1[1]} got: {dj_dw}\"\n",
        "\n",
        "\n",
        "    w = np.random.randn(7)\n",
        "    b = 0\n",
        "    X = np.random.randn(7, 7)\n",
        "    y = np.array([1, 0, 0, 0, 1, 1, 0])\n",
        "    lambda_ = 0\n",
        "    expected2 = (0.02660329857573818, np.array([ 0.23567643, -0.06921029, -0.19705212, -0.0002884 ,  0.06490588,\n",
        "        0.26948175,  0.10777992]))\n",
        "    dj_db, dj_dw = target(X, y, w, b, lambda_)\n",
        "    assert np.isclose(dj_db, expected2[0]), f\"Wrong dj_db. Expected: {expected2[0]} got: {dj_db}\"\n",
        "    assert np.allclose(dj_dw, expected2[1]), f\"Wrong dj_dw. Expected: {expected2[1]} got: {dj_dw}\"\n",
        "\n",
        "    print('\\033[92mTests passed!')"
      ]
    },
    {
      "cell_type": "code",
      "execution_count": 61,
      "metadata": {
        "id": "3_of_BHJ9hEc"
      },
      "outputs": [
        {
          "name": "stdout",
          "output_type": "stream",
          "text": [
            "dj_db: 0.07138288792343654\n",
            "\u001b[92mTests passed!\n"
          ]
        }
      ],
      "source": [
        "X_mapped = map_feature(X_train[:, 0], X_train[:, 1])\n",
        "np.random.seed(1)\n",
        "initial_w  = np.random.rand(X_mapped.shape[1]) - 0.5\n",
        "initial_b = 0.5\n",
        "\n",
        "lambda_ = 0.5\n",
        "dj_db, dj_dw = compute_gradient_reg(X_mapped, y_train, initial_w, initial_b, lambda_)\n",
        "\n",
        "print(f\"dj_db: {dj_db}\" )\n",
        "#test\n",
        "compute_gradient_reg_test(compute_gradient_reg)"
      ]
    },
    {
      "cell_type": "code",
      "execution_count": 108,
      "metadata": {
        "id": "c5y3Nb9Z_SC4"
      },
      "outputs": [
        {
          "name": "stdout",
          "output_type": "stream",
          "text": [
            "0 Cost 0.7210188345400224\n",
            "100 Cost 0.6711629538071979\n",
            "200 Cost 0.6432130763157912\n",
            "300 Cost 0.6268242470473451\n",
            "400 Cost 0.6164398325253835\n",
            "500 Cost 0.6091955561911122\n",
            "600 Cost 0.6036254362922808\n",
            "700 Cost 0.5989751089015083\n",
            "800 Cost 0.5948525946845686\n",
            "900 Cost 0.5910518295266607\n",
            "1000 Cost 0.5874629876860553\n",
            "1100 Cost 0.5840264980296664\n",
            "1200 Cost 0.580709249005857\n",
            "1300 Cost 0.5774921746619276\n",
            "1400 Cost 0.5743637323807367\n",
            "1500 Cost 0.5713164549015156\n",
            "1600 Cost 0.568345117150703\n",
            "1700 Cost 0.5654457559889225\n",
            "1800 Cost 0.5626151426081052\n",
            "1900 Cost 0.5598504961958096\n",
            "2000 Cost 0.5571493267445516\n",
            "2100 Cost 0.5545093473073849\n",
            "2200 Cost 0.5519284238023556\n",
            "2300 Cost 0.5494045452641942\n",
            "2400 Cost 0.5469358053405954\n",
            "2500 Cost 0.5445203900598837\n",
            "2600 Cost 0.5421565691682354\n",
            "2700 Cost 0.5398426895582826\n",
            "2800 Cost 0.5375771699725906\n",
            "2900 Cost 0.5353584965248658\n",
            "3000 Cost 0.5331852187780523\n",
            "3100 Cost 0.5310559462265404\n",
            "3200 Cost 0.5289693450898054\n",
            "3300 Cost 0.526924135358703\n",
            "3400 Cost 0.5249190880551508\n",
            "3500 Cost 0.5229530226774487\n",
            "3600 Cost 0.5210248048105054\n",
            "3700 Cost 0.5191333438847175\n",
            "3800 Cost 0.5172775910702245\n",
            "3900 Cost 0.5154565372953365\n",
            "4000 Cost 0.513669211379471\n",
            "4100 Cost 0.5119146782721054\n",
            "4200 Cost 0.5101920373901803\n",
            "4300 Cost 0.5085004210471602\n",
            "4400 Cost 0.5068389929675963\n",
            "4500 Cost 0.5052069468815901\n",
            "4600 Cost 0.5036035051940226\n",
            "4700 Cost 0.5020279177238475\n",
            "4800 Cost 0.5004794605090964\n",
            "4900 Cost 0.49895743467359405\n",
            "5000 Cost 0.49746116535166157\n",
            "5100 Cost 0.49599000066736204\n",
            "5200 Cost 0.49454331076508223\n",
            "5300 Cost 0.493120486888465\n",
            "5400 Cost 0.4917209405049085\n",
            "5500 Cost 0.4903441024730349\n",
            "5600 Cost 0.48898942225069986\n",
            "5700 Cost 0.4876563671412712\n",
            "5800 Cost 0.48634442157605223\n",
            "5900 Cost 0.48505308643085465\n",
            "6000 Cost 0.4837818783748564\n",
            "6100 Cost 0.48253032924999\n",
            "6200 Cost 0.48129798547921837\n",
            "6300 Cost 0.4800844075021502\n",
            "6400 Cost 0.4788891692365475\n",
            "6500 Cost 0.4777118575643552\n",
            "6600 Cost 0.47655207184097315\n",
            "6700 Cost 0.47540942342655873\n",
            "6800 Cost 0.4742835352382241\n",
            "6900 Cost 0.4731740413220571\n",
            "7000 Cost 0.4720805864439526\n",
            "7100 Cost 0.47100282569830765\n",
            "7200 Cost 0.4699404241336778\n",
            "7300 Cost 0.46889305639455\n",
            "7400 Cost 0.46786040637843385\n",
            "7500 Cost 0.46684216690751373\n",
            "7600 Cost 0.4658380394141525\n",
            "7700 Cost 0.46484773363956977\n",
            "7800 Cost 0.46387096734506184\n",
            "7900 Cost 0.46290746603515853\n",
            "8000 Cost 0.46195696269215014\n",
            "8100 Cost 0.4610191975214449\n",
            "8200 Cost 0.4600939177072467\n",
            "8300 Cost 0.4591808771780707\n",
            "8400 Cost 0.45827983638164127\n",
            "8500 Cost 0.4573905620687376\n",
            "8600 Cost 0.45651282708557483\n",
            "8700 Cost 0.4556464101743361\n",
            "8800 Cost 0.45479109578148164\n",
            "8900 Cost 0.45394667387348786\n",
            "9000 Cost 0.4531129397596819\n",
            "9100 Cost 0.4522896939218565\n",
            "9200 Cost 0.4514767418503677\n",
            "9300 Cost 0.4506738938864272\n",
            "9400 Cost 0.4498809650703204\n",
            "9500 Cost 0.4490977749952942\n",
            "9600 Cost 0.44832414766686746\n",
            "9700 Cost 0.4475599113673336\n",
            "9800 Cost 0.4468048985252323\n",
            "9900 Cost 0.44605894558958087\n",
            "10000 Cost 0.445321892908665\n",
            "10100 Cost 0.44459358461319615\n",
            "10200 Cost 0.44387386850365496\n",
            "10300 Cost 0.4431625959416482\n",
            "10400 Cost 0.44245962174511067\n",
            "10500 Cost 0.4417648040871991\n",
            "10600 Cost 0.4410780043987244\n",
            "10700 Cost 0.4403990872739796\n",
            "10800 Cost 0.4397279203798278\n",
            "10900 Cost 0.4390643743679192\n",
            "11000 Cost 0.4384083227899112\n",
            "11100 Cost 0.43775964201557566\n",
            "11200 Cost 0.43711821115367555\n",
            "11300 Cost 0.4364839119755067\n",
            "11400 Cost 0.43585662884099724\n",
            "11500 Cost 0.43523624862726845\n",
            "11600 Cost 0.43462266065955957\n",
            "11700 Cost 0.43401575664442815\n",
            "11800 Cost 0.43341543060513804\n",
            "11900 Cost 0.432821578819151\n",
            "12000 Cost 0.43223409975764593\n",
            "12100 Cost 0.43165289402698453\n",
            "12200 Cost 0.4310778643120554\n",
            "12300 Cost 0.4305089153214245\n",
            "12400 Cost 0.42994595373422473\n",
            "12500 Cost 0.429388888148722\n",
            "12600 Cost 0.42883762903249556\n",
            "12700 Cost 0.42829208867417357\n",
            "12800 Cost 0.42775218113667\n",
            "12900 Cost 0.42721782221186316\n",
            "13000 Cost 0.4266889293766718\n",
            "13100 Cost 0.4261654217504714\n",
            "13200 Cost 0.42564722005380845\n",
            "13300 Cost 0.4251342465683638\n",
            "13400 Cost 0.4246264250981231\n",
            "13500 Cost 0.42412368093171\n",
            "13600 Cost 0.423625940805843\n",
            "13700 Cost 0.4231331328698776\n",
            "13800 Cost 0.422645186651394\n",
            "13900 Cost 0.42216203302279737\n",
            "14000 Cost 0.4216836041688926\n",
            "14100 Cost 0.42120983355540415\n",
            "14200 Cost 0.4207406558984065\n",
            "14300 Cost 0.4202760071346342\n",
            "14400 Cost 0.41981582439264536\n",
            "14500 Cost 0.41936004596480475\n",
            "14600 Cost 0.4189086112800647\n",
            "14700 Cost 0.418461460877514\n",
            "14800 Cost 0.4180185363806703\n",
            "14900 Cost 0.4175797804724918\n",
            "15000 Cost 0.41714513687108523\n",
            "15100 Cost 0.41671455030608723\n",
            "15200 Cost 0.41628796649569605\n",
            "15300 Cost 0.4158653321243353\n",
            "15400 Cost 0.41544659482092666\n",
            "15500 Cost 0.4150317031377544\n",
            "15600 Cost 0.41462060652990157\n",
            "15700 Cost 0.4142132553352402\n",
            "15800 Cost 0.41380960075495815\n",
            "15900 Cost 0.41340959483460576\n",
            "16000 Cost 0.41301319044564627\n",
            "16100 Cost 0.41262034126749364\n",
            "16200 Cost 0.4122310017700238\n",
            "16300 Cost 0.41184512719654387\n",
            "16400 Cost 0.41146267354720495\n",
            "16500 Cost 0.4110835975628483\n",
            "16600 Cost 0.41070785670926524\n",
            "16700 Cost 0.4103354091618648\n",
            "16800 Cost 0.4099662137907338\n",
            "16900 Cost 0.40960023014607655\n",
            "17000 Cost 0.4092374184440263\n",
            "17100 Cost 0.4088777395528138\n",
            "17200 Cost 0.40852115497928354\n",
            "17300 Cost 0.40816762685575014\n",
            "17400 Cost 0.4078171179271802\n",
            "17500 Cost 0.40746959153869267\n",
            "17600 Cost 0.4071250116233704\n",
            "17700 Cost 0.406783342690369\n",
            "17800 Cost 0.4064445498133193\n",
            "17900 Cost 0.40610859861901083\n",
            "18000 Cost 0.40577545527635284\n",
            "18100 Cost 0.4054450864855991\n",
            "18200 Cost 0.40511745946783634\n",
            "18300 Cost 0.4047925419547205\n",
            "18400 Cost 0.4044703021784613\n",
            "18500 Cost 0.4041507088620442\n",
            "18600 Cost 0.403833731209683\n",
            "18700 Cost 0.4035193388974986\n",
            "18800 Cost 0.4032075020644164\n",
            "18900 Cost 0.40289819130327675\n",
            "19000 Cost 0.4025913776521514\n",
            "19100 Cost 0.4022870325858636\n",
            "19200 Cost 0.40198512800770103\n",
            "19300 Cost 0.401685636241322\n",
            "19400 Cost 0.4013885300228455\n",
            "19500 Cost 0.40109378249312244\n",
            "19600 Cost 0.40080136719018217\n",
            "19700 Cost 0.4005112580418497\n",
            "19800 Cost 0.4002234293585296\n",
            "19900 Cost 0.39993785582615216\n",
            "20000 Cost 0.39965451249927625\n",
            "20100 Cost 0.3993733747943475\n",
            "20200 Cost 0.3990944184831031\n",
            "20300 Cost 0.3988176196861255\n",
            "20400 Cost 0.3985429548665356\n",
            "20500 Cost 0.3982704008238254\n",
            "20600 Cost 0.3979999346878245\n",
            "20700 Cost 0.3977315339127982\n",
            "20800 Cost 0.39746517627167327\n",
            "20900 Cost 0.397200839850388\n",
            "21000 Cost 0.39693850304236444\n",
            "21100 Cost 0.3966781445430982\n",
            "21200 Cost 0.3964197433448632\n",
            "21300 Cost 0.3961632787315304\n",
            "21400 Cost 0.39590873027349494\n",
            "21500 Cost 0.39565607782271006\n",
            "21600 Cost 0.3954053015078265\n",
            "21700 Cost 0.3951563817294318\n",
            "21800 Cost 0.39490929915539114\n",
            "21900 Cost 0.39466403471628186\n",
            "22000 Cost 0.39442056960092564\n",
            "22100 Cost 0.39417888525201006\n",
            "22200 Cost 0.39393896336180134\n",
            "22300 Cost 0.3937007858679455\n",
            "22400 Cost 0.3934643349493528\n",
            "22500 Cost 0.39322959302216787\n",
            "22600 Cost 0.3929965427358201\n",
            "22700 Cost 0.39276516696915437\n",
            "22800 Cost 0.3925354488266389\n",
            "22900 Cost 0.3923073716346491\n",
            "23000 Cost 0.392080918937826\n",
            "23100 Cost 0.39185607449550625\n",
            "23200 Cost 0.3916328222782232\n",
            "23300 Cost 0.3914111464642766\n",
            "23400 Cost 0.39119103143637074\n",
            "23500 Cost 0.39097246177831635\n",
            "23600 Cost 0.39075542227179944\n",
            "23700 Cost 0.3905398978932109\n",
            "23800 Cost 0.3903258738105385\n",
            "23900 Cost 0.3901133353803184\n",
            "24000 Cost 0.3899022681446456\n",
            "24100 Cost 0.3896926578282422\n",
            "24200 Cost 0.3894844903355797\n",
            "24300 Cost 0.3892777517480595\n",
            "24400 Cost 0.38907242832124284\n",
            "24500 Cost 0.38886850648213633\n",
            "24600 Cost 0.38866597282652715\n",
            "24700 Cost 0.3884648141163684\n",
            "24800 Cost 0.38826501727721396\n",
            "24900 Cost 0.38806656939570006\n",
            "25000 Cost 0.38786945771707515\n",
            "25100 Cost 0.38767366964277383\n",
            "25200 Cost 0.3874791927280377\n",
            "25300 Cost 0.38728601467957796\n",
            "25400 Cost 0.38709412335328147\n",
            "25500 Cost 0.3869035067519597\n",
            "25600 Cost 0.3867141530231374\n",
            "25700 Cost 0.38652605045688254\n",
            "25800 Cost 0.3863391874836744\n",
            "25900 Cost 0.3861535526723107\n",
            "26000 Cost 0.38596913472785316\n",
            "26100 Cost 0.38578592248960825\n",
            "26200 Cost 0.3856039049291448\n",
            "26300 Cost 0.3854230711483482\n",
            "26400 Cost 0.38524341037750587\n",
            "26500 Cost 0.38506491197343085\n",
            "26600 Cost 0.38488756541761454\n",
            "26700 Cost 0.38471136031441455\n",
            "26800 Cost 0.3845362863892733\n",
            "26900 Cost 0.38436233348696763\n",
            "27000 Cost 0.38418949156988974\n",
            "27100 Cost 0.3840177507163563\n",
            "27200 Cost 0.3838471011189491\n",
            "27300 Cost 0.3836775330828824\n",
            "27400 Cost 0.38350903702439904\n",
            "27500 Cost 0.38334160346919505\n",
            "27600 Cost 0.38317522305086876\n",
            "27700 Cost 0.3830098865093993\n",
            "27800 Cost 0.38284558468964885\n",
            "27900 Cost 0.3826823085398905\n",
            "28000 Cost 0.38252004911036197\n",
            "28100 Cost 0.38235879755184327\n",
            "28200 Cost 0.38219854511425755\n",
            "28300 Cost 0.3820392831452956\n",
            "28400 Cost 0.3818810030890651\n",
            "28500 Cost 0.3817236964847588\n",
            "28600 Cost 0.3815673549653483\n",
            "28700 Cost 0.3814119702562975\n",
            "28800 Cost 0.38125753417429714\n",
            "28900 Cost 0.3811040386260223\n",
            "29000 Cost 0.38095147560690656\n",
            "29100 Cost 0.38079983719994037\n",
            "29200 Cost 0.3806491155744855\n",
            "29300 Cost 0.380499302985111\n",
            "29400 Cost 0.3803503917704471\n",
            "29500 Cost 0.38020237435205767\n",
            "29600 Cost 0.3800552432333309\n",
            "29700 Cost 0.37990899099838815\n",
            "29800 Cost 0.3797636103110098\n",
            "29900 Cost 0.3796190939135785\n",
            "30000 Cost 0.3794754346260391\n",
            "30100 Cost 0.37933262534487555\n",
            "30200 Cost 0.37919065904210286\n",
            "30300 Cost 0.3790495287642771\n",
            "30400 Cost 0.37890922763151824\n",
            "30500 Cost 0.37876974883655096\n",
            "30600 Cost 0.37863108564375864\n",
            "30700 Cost 0.3784932313882528\n",
            "30800 Cost 0.37835617947495775\n",
            "30900 Cost 0.3782199233777074\n",
            "31000 Cost 0.378084456638359\n",
            "31100 Cost 0.3779497728659178\n",
            "31200 Cost 0.3778158657356767\n",
            "31300 Cost 0.37768272898836913\n",
            "31400 Cost 0.3775503564293342\n",
            "31500 Cost 0.3774187419276953\n",
            "31600 Cost 0.3772878794155505\n",
            "31700 Cost 0.377157762887176\n",
            "31800 Cost 0.37702838639824166\n",
            "31900 Cost 0.376899744065037\n",
            "32000 Cost 0.37677183006371123\n",
            "32100 Cost 0.37664463862952235\n",
            "32200 Cost 0.37651816405609934\n",
            "32300 Cost 0.3763924006947143\n",
            "32400 Cost 0.37626734295356595\n",
            "32500 Cost 0.3761429852970734\n",
            "32600 Cost 0.37601932224518064\n",
            "32700 Cost 0.375896348372672\n",
            "32800 Cost 0.3757740583084961\n",
            "32900 Cost 0.37565244673510123\n",
            "33000 Cost 0.37553150838778043\n",
            "33100 Cost 0.37541123805402443\n",
            "33200 Cost 0.3752916305728867\n",
            "33300 Cost 0.3751726808343558\n",
            "33400 Cost 0.37505438377873745\n",
            "33500 Cost 0.3749367343960455\n",
            "33600 Cost 0.3748197277254023\n",
            "33700 Cost 0.37470335885444667\n",
            "33800 Cost 0.37458762291875125\n",
            "33900 Cost 0.37447251510124785\n",
            "34000 Cost 0.37435803063166095\n",
            "34100 Cost 0.37424416478594974\n",
            "34200 Cost 0.37413091288575784\n",
            "34300 Cost 0.3740182702978703\n",
            "34400 Cost 0.37390623243367965\n",
            "34500 Cost 0.37379479474865823\n",
            "34600 Cost 0.3736839527418382\n",
            "34700 Cost 0.37357370195529993\n",
            "34800 Cost 0.3734640379736657\n",
            "34900 Cost 0.37335495642360245\n",
            "35000 Cost 0.37324645297333053\n",
            "35100 Cost 0.3731385233321384\n",
            "35200 Cost 0.3730311632499065\n",
            "35300 Cost 0.3729243685166351\n",
            "35400 Cost 0.3728181349619805\n",
            "35500 Cost 0.372712458454797\n",
            "35600 Cost 0.37260733490268444\n",
            "35700 Cost 0.37250276025154416\n",
            "35800 Cost 0.37239873048513816\n",
            "35900 Cost 0.37229524162465655\n",
            "36000 Cost 0.37219228972829005\n",
            "36100 Cost 0.372089870890808\n",
            "36200 Cost 0.3719879812431429\n",
            "36300 Cost 0.37188661695198\n",
            "36400 Cost 0.37178577421935227\n",
            "36500 Cost 0.3716854492822418\n",
            "36600 Cost 0.3715856384121855\n",
            "36700 Cost 0.37148633791488656\n",
            "36800 Cost 0.3713875441298315\n",
            "36900 Cost 0.3712892534299112\n",
            "37000 Cost 0.37119146222104826\n",
            "37100 Cost 0.3710941669418291\n",
            "37200 Cost 0.3709973640631399\n",
            "37300 Cost 0.370901050087808\n",
            "37400 Cost 0.3708052215502493\n",
            "37500 Cost 0.3707098750161181\n",
            "37600 Cost 0.3706150070819627\n",
            "37700 Cost 0.37052061437488604\n",
            "37800 Cost 0.3704266935522095\n",
            "37900 Cost 0.3703332413011424\n",
            "38000 Cost 0.37024025433845464\n",
            "38100 Cost 0.370147729410154\n",
            "38200 Cost 0.3700556632911694\n",
            "38300 Cost 0.3699640527850339\n",
            "38400 Cost 0.36987289472357715\n",
            "38500 Cost 0.36978218596661744\n",
            "38600 Cost 0.36969192340166085\n",
            "38700 Cost 0.36960210394360177\n",
            "38800 Cost 0.36951272453442896\n",
            "38900 Cost 0.3694237821429349\n",
            "39000 Cost 0.36933527376442826\n",
            "39100 Cost 0.3692471964204514\n",
            "39200 Cost 0.36915954715849936\n",
            "39300 Cost 0.36907232305174476\n",
            "39400 Cost 0.36898552119876477\n",
            "39500 Cost 0.36889913872327135\n",
            "39600 Cost 0.3688131727738461\n",
            "39700 Cost 0.36872762052367697\n",
            "39800 Cost 0.36864247917029996\n",
            "39900 Cost 0.3685577459353421\n",
            "40000 Cost 0.36847341806426925\n",
            "40100 Cost 0.36838949282613664\n",
            "40200 Cost 0.3683059675133419\n",
            "40300 Cost 0.36822283944138146\n",
            "40400 Cost 0.3681401059486109\n",
            "40500 Cost 0.36805776439600657\n",
            "40600 Cost 0.3679758121669316\n",
            "40700 Cost 0.3678942466669043\n",
            "40800 Cost 0.36781306532336877\n",
            "40900 Cost 0.36773226558546973\n",
            "41000 Cost 0.3676518449238284\n",
            "41100 Cost 0.3675718008303228\n",
            "41200 Cost 0.3674921308178695\n",
            "41300 Cost 0.36741283242020834\n",
            "41400 Cost 0.3673339031916905\n",
            "41500 Cost 0.36725534070706795\n",
            "41600 Cost 0.36717714256128603\n",
            "41700 Cost 0.367099306369279\n",
            "41800 Cost 0.36702182976576725\n",
            "41900 Cost 0.3669447104050569\n",
            "42000 Cost 0.36686794596084327\n",
            "42100 Cost 0.3667915341260143\n",
            "42200 Cost 0.36671547261245896\n",
            "42300 Cost 0.3666397591508752\n",
            "42400 Cost 0.3665643914905832\n",
            "42500 Cost 0.36648936739933774\n",
            "42600 Cost 0.36641468466314536\n",
            "42700 Cost 0.36634034108608204\n",
            "42800 Cost 0.3662663344901142\n",
            "42900 Cost 0.36619266271492057\n",
            "43000 Cost 0.36611932361771715\n",
            "43100 Cost 0.3660463150730842\n",
            "43200 Cost 0.36597363497279434\n",
            "43300 Cost 0.36590128122564386\n",
            "43400 Cost 0.3658292517572847\n",
            "43500 Cost 0.36575754451006015\n",
            "43600 Cost 0.3656861574428404\n",
            "43700 Cost 0.3656150885308614\n",
            "43800 Cost 0.3655443357655658\n",
            "43900 Cost 0.365473897154444\n",
            "44000 Cost 0.3654037707208789\n",
            "44100 Cost 0.36533395450399203\n",
            "44200 Cost 0.36526444655848983\n",
            "44300 Cost 0.36519524495451455\n",
            "44400 Cost 0.3651263477774944\n",
            "44500 Cost 0.36505775312799615\n",
            "44600 Cost 0.3649894591215806\n",
            "44700 Cost 0.3649214638886576\n",
            "44800 Cost 0.3648537655743441\n",
            "44900 Cost 0.36478636233832373\n",
            "45000 Cost 0.3647192523547077\n",
            "45100 Cost 0.3646524338118974\n",
            "45200 Cost 0.36458590491244797\n",
            "45300 Cost 0.3645196638729346\n",
            "45400 Cost 0.364453708923819\n",
            "45500 Cost 0.3643880383093189\n",
            "45600 Cost 0.36432265028727645\n",
            "45700 Cost 0.3642575431290323\n",
            "45800 Cost 0.36419271511929596\n",
            "45900 Cost 0.36412816455602176\n",
            "46000 Cost 0.3640638897502846\n",
            "46100 Cost 0.36399988902615593\n",
            "46200 Cost 0.36393616072058405\n",
            "46300 Cost 0.3638727031832723\n",
            "46400 Cost 0.363809514776561\n",
            "46500 Cost 0.36374659387531044\n",
            "46600 Cost 0.3636839388667839\n",
            "46700 Cost 0.36362154815053266\n",
            "46800 Cost 0.3635594201382831\n",
            "46900 Cost 0.36349755325382366\n",
            "47000 Cost 0.3634359459328938\n",
            "47100 Cost 0.36337459662307425\n",
            "47200 Cost 0.36331350378367805\n",
            "47300 Cost 0.3632526658856425\n",
            "47400 Cost 0.3631920814114237\n",
            "47500 Cost 0.36313174885489036\n",
            "47600 Cost 0.3630716667212203\n",
            "47700 Cost 0.36301183352679717\n",
            "47800 Cost 0.36295224779910823\n",
            "47900 Cost 0.3628929080766444\n",
            "48000 Cost 0.3628338129087995\n",
            "48100 Cost 0.36277496085577227\n",
            "48200 Cost 0.3627163504884687\n",
            "48300 Cost 0.3626579803884051\n",
            "48400 Cost 0.3625998491476133\n",
            "48500 Cost 0.362541955368545\n",
            "48600 Cost 0.36248429766397944\n",
            "48700 Cost 0.3624268746569301\n",
            "48800 Cost 0.36236968498055394\n",
            "48900 Cost 0.3623127272780595\n",
            "49000 Cost 0.362256000202619\n",
            "49100 Cost 0.3621995024172781\n",
            "49200 Cost 0.36214323259486925\n",
            "49300 Cost 0.3620871894179243\n",
            "49400 Cost 0.36203137157858895\n",
            "49500 Cost 0.3619757777785374\n",
            "49600 Cost 0.36192040672888853\n",
            "49700 Cost 0.36186525715012247\n",
            "49800 Cost 0.36181032777199834\n",
            "49900 Cost 0.3617556173334727\n"
          ]
        }
      ],
      "source": [
        "np.random.seed(1)\n",
        "initial_w = np.random.rand(X_mapped.shape[1])-0.5\n",
        "initial_b = 1.\n",
        "lambda_ = 0.01\n",
        "iterations = 50000\n",
        "alpha = 0.01\n",
        "def gradient_descent(X_mapped, y_train, initial_w, initial_b,\n",
        "                                    compute_cost_reg, compute_gradient_reg,\n",
        "                                    alpha, iterations, lambda_):\n",
        "  \n",
        "    w = initial_w\n",
        "    b = initial_b\n",
        "    J_history = []\n",
        "\n",
        "    for i in range (iterations):\n",
        "        dj_db, dj_dw = compute_gradient_reg(X_mapped, y_train, w, b, lambda_)\n",
        "        w = w - alpha * dj_dw\n",
        "        b = b - alpha * dj_db\n",
        "        \n",
        "        if i % 100 == 0:\n",
        "            cost = compute_cost_reg(X_mapped, y_train, w, b, lambda_)\n",
        "            J_history.append(cost)\n",
        "            print(i, \"Cost\" , cost)\n",
        "\n",
        "    return w, b, J_history, None\n",
        "\n",
        "w,b, J_history,_ = gradient_descent(X_mapped, y_train, initial_w, initial_b,\n",
        "                                    compute_cost_reg, compute_gradient_reg,\n",
        "                                    alpha, iterations, lambda_)\n"
      ]
    },
    {
      "cell_type": "code",
      "execution_count": 109,
      "metadata": {
        "id": "cqSOrJsTAf9p"
      },
      "outputs": [],
      "source": [
        "#plot decision boundary\n",
        "def plot_decision_boundary(w,b,X,y):\n",
        "\n",
        "    plot_data(X[:, 0:2], y)\n",
        "\n",
        "    if X.shape[1] <= 2:\n",
        "        plot_x = np.array([min(X[:, 0]), max(X[:, 0])])\n",
        "        plot_y = (-1. / w[1]) * (w[0] * plot_x + b)\n",
        "\n",
        "        plt.plot(plot_x, plot_y, c=\"b\")\n",
        "\n",
        "    else:\n",
        "        u = np.linspace(-1, 1.5, 50)\n",
        "        v = np.linspace(-1, 1.5, 50)\n",
        "\n",
        "        z = np.zeros((len(u), len(v)))\n",
        "\n",
        "\n",
        "        for i in range(len(u)):\n",
        "            for j in range(len(v)):\n",
        "                z[i,j] = sigmoid(np.dot(map_feature(u[i], v[j]), w) + b)\n",
        "\n",
        "\n",
        "        z = z.T\n",
        "\n",
        "\n",
        "        plt.contour(u,v,z, levels = [0.5], colors=\"g\")"
      ]
    },
    {
      "cell_type": "code",
      "execution_count": 110,
      "metadata": {
        "id": "etir_m_AAyYC"
      },
      "outputs": [
        {
          "data": {
            "image/png": "[encoded data removed]",
            "text/plain": [
              "<Figure size 640x480 with 1 Axes>"
            ]
          },
          "metadata": {},
          "output_type": "display_data"
        }
      ],
      "source": [
        "plot_decision_boundary(w, b, X_mapped, y_train)"
      ]
    },
    {
      "cell_type": "code",
      "execution_count": 111,
      "metadata": {
        "id": "MD2Dup4OA1ew"
      },
      "outputs": [],
      "source": [
        "#predict your training model\n",
        "def predict(X, w, b):\n",
        "  m,n=X.shape\n",
        "  p=np.zeros(m)\n",
        "  #write your code\n",
        "  pred = sigmoid(np.dot(X, w) + b)\n",
        "  p = pred >= 0.5\n",
        "\n",
        "  return p"
      ]
    },
    {
      "cell_type": "code",
      "execution_count": 112,
      "metadata": {
        "id": "TAhIPFIsBTjk"
      },
      "outputs": [
        {
          "name": "stdout",
          "output_type": "stream",
          "text": [
            "Accuracy of training model: 83.898305\n"
          ]
        }
      ],
      "source": [
        "p = predict(X_mapped, w, b)\n",
        "\n",
        "print('Accuracy of training model: %f'%(np.mean(p == y_train) * 100))"
      ]
    }
  ],
  "metadata": {
    "colab": {
      "provenance": []
    },
    "kernelspec": {
      "display_name": "Python 3",
      "name": "python3"
    },
    "language_info": {
      "codemirror_mode": {
        "name": "ipython",
        "version": 3
      },
      "file_extension": ".py",
      "mimetype": "text/x-python",
      "name": "python",
      "nbconvert_exporter": "python",
      "pygments_lexer": "ipython3",
      "version": "3.11.9"
    }
  },
  "nbformat": 4,
  "nbformat_minor": 0
}
